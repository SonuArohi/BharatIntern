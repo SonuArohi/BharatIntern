{
 "cells": [
  {
   "cell_type": "markdown",
   "id": "2b95e710",
   "metadata": {},
   "source": [
    "# Step 1: Import the necessary libraries:\n"
   ]
  },
  {
   "cell_type": "code",
   "execution_count": 23,
   "id": "51ef09f1",
   "metadata": {},
   "outputs": [
    {
     "ename": "ModuleNotFoundError",
     "evalue": "No module named 'seaborn'",
     "output_type": "error",
     "traceback": [
      "\u001b[1;31m---------------------------------------------------------------------------\u001b[0m",
      "\u001b[1;31mModuleNotFoundError\u001b[0m                       Traceback (most recent call last)",
      "Cell \u001b[1;32mIn[23], line 7\u001b[0m\n\u001b[0;32m      5\u001b[0m \u001b[38;5;28;01mfrom\u001b[39;00m \u001b[38;5;21;01msklearn\u001b[39;00m\u001b[38;5;21;01m.\u001b[39;00m\u001b[38;5;21;01mensemble\u001b[39;00m \u001b[38;5;28;01mimport\u001b[39;00m RandomForestClassifier\n\u001b[0;32m      6\u001b[0m \u001b[38;5;28;01mfrom\u001b[39;00m \u001b[38;5;21;01msklearn\u001b[39;00m\u001b[38;5;21;01m.\u001b[39;00m\u001b[38;5;21;01mmetrics\u001b[39;00m \u001b[38;5;28;01mimport\u001b[39;00m accuracy_score\n\u001b[1;32m----> 7\u001b[0m \u001b[38;5;28;01mimport\u001b[39;00m \u001b[38;5;21;01mseaborn\u001b[39;00m \u001b[38;5;28;01mas\u001b[39;00m \u001b[38;5;21;01msns\u001b[39;00m\n",
      "\u001b[1;31mModuleNotFoundError\u001b[0m: No module named 'seaborn'"
     ]
    }
   ],
   "source": [
    "import pandas as pd\n",
    "import numpy as np\n",
    "from sklearn.model_selection import train_test_split\n",
    "from sklearn.preprocessing import LabelEncoder\n",
    "from sklearn.ensemble import RandomForestClassifier\n",
    "from sklearn.metrics import accuracy_score\n",
    "import seaborn as sns"
   ]
  },
  {
   "cell_type": "markdown",
   "id": "37c97160",
   "metadata": {},
   "source": [
    "# Step 2: Load and preprocess the dataset:"
   ]
  },
  {
   "cell_type": "code",
   "execution_count": 22,
   "id": "a2d3c22c",
   "metadata": {},
   "outputs": [
    {
     "name": "stdout",
     "output_type": "stream",
     "text": [
      "Collecting seabornNote: you may need to restart the kernel to use updated packages.\n",
      "\n",
      "  Downloading seaborn-0.12.2-py3-none-any.whl (293 kB)\n",
      "                                              0.0/293.3 kB ? eta -:--:--\n",
      "     -----                                 41.0/293.3 kB 653.6 kB/s eta 0:00:01\n",
      "     ------------------                     143.4/293.3 kB 1.4 MB/s eta 0:00:01\n",
      "     -------------------------------------- 293.3/293.3 kB 1.6 MB/s eta 0:00:00\n",
      "Collecting numpy!=1.24.0,>=1.17 (from seaborn)\n",
      "  Downloading numpy-1.25.1-cp311-cp311-win_amd64.whl (15.0 MB)\n",
      "                                              0.0/15.0 MB ? eta -:--:--\n",
      "                                              0.2/15.0 MB 6.9 MB/s eta 0:00:03\n",
      "     -                                        0.4/15.0 MB 3.9 MB/s eta 0:00:04\n",
      "     -                                        0.6/15.0 MB 3.8 MB/s eta 0:00:04\n",
      "     --                                       0.8/15.0 MB 3.8 MB/s eta 0:00:04\n",
      "     --                                       1.0/15.0 MB 3.9 MB/s eta 0:00:04\n",
      "     --                                       1.1/15.0 MB 3.6 MB/s eta 0:00:04\n",
      "     ---                                      1.3/15.0 MB 3.7 MB/s eta 0:00:04\n",
      "     ----                                     1.6/15.0 MB 3.8 MB/s eta 0:00:04\n",
      "     ----                                     1.7/15.0 MB 3.7 MB/s eta 0:00:04\n",
      "     -----                                    1.9/15.0 MB 3.9 MB/s eta 0:00:04\n",
      "     -----                                    2.2/15.0 MB 4.0 MB/s eta 0:00:04\n",
      "     ------                                   2.5/15.0 MB 4.1 MB/s eta 0:00:04\n",
      "     -------                                  2.8/15.0 MB 4.2 MB/s eta 0:00:03\n",
      "     --------                                 3.1/15.0 MB 4.3 MB/s eta 0:00:03\n",
      "     --------                                 3.3/15.0 MB 4.4 MB/s eta 0:00:03\n",
      "     ---------                                3.7/15.0 MB 4.5 MB/s eta 0:00:03\n",
      "     ----------                               3.9/15.0 MB 4.6 MB/s eta 0:00:03\n",
      "     -----------                              4.2/15.0 MB 4.7 MB/s eta 0:00:03\n",
      "     ------------                             4.6/15.0 MB 4.8 MB/s eta 0:00:03\n",
      "     -------------                            5.0/15.0 MB 5.0 MB/s eta 0:00:02\n",
      "     --------------                           5.3/15.0 MB 5.1 MB/s eta 0:00:02\n",
      "     ---------------                          5.7/15.0 MB 5.2 MB/s eta 0:00:02\n",
      "     ----------------                         6.2/15.0 MB 5.4 MB/s eta 0:00:02\n",
      "     -----------------                        6.5/15.0 MB 5.4 MB/s eta 0:00:02\n",
      "     ------------------                       7.1/15.0 MB 5.6 MB/s eta 0:00:02\n",
      "     -------------------                      7.4/15.0 MB 5.6 MB/s eta 0:00:02\n",
      "     --------------------                     7.9/15.0 MB 5.8 MB/s eta 0:00:02\n",
      "     ---------------------                    8.1/15.0 MB 5.7 MB/s eta 0:00:02\n",
      "     ----------------------                   8.6/15.0 MB 5.9 MB/s eta 0:00:02\n",
      "     ------------------------                 9.0/15.0 MB 6.0 MB/s eta 0:00:02\n",
      "     -------------------------                9.5/15.0 MB 6.1 MB/s eta 0:00:01\n",
      "     --------------------------               10.0/15.0 MB 6.2 MB/s eta 0:00:01\n",
      "     ---------------------------              10.4/15.0 MB 6.2 MB/s eta 0:00:01\n",
      "     -----------------------------            11.0/15.0 MB 6.8 MB/s eta 0:00:01\n",
      "     -------------------------------          11.7/15.0 MB 7.3 MB/s eta 0:00:01\n",
      "     --------------------------------         12.2/15.0 MB 7.7 MB/s eta 0:00:01\n",
      "     ---------------------------------        12.7/15.0 MB 8.1 MB/s eta 0:00:01\n",
      "     -----------------------------------      13.2/15.0 MB 8.3 MB/s eta 0:00:01\n",
      "     ------------------------------------     13.7/15.0 MB 8.6 MB/s eta 0:00:01\n",
      "     -------------------------------------    14.2/15.0 MB 8.8 MB/s eta 0:00:01\n",
      "     --------------------------------------   14.6/15.0 MB 9.0 MB/s eta 0:00:01\n",
      "     ---------------------------------------  15.0/15.0 MB 9.1 MB/s eta 0:00:01\n",
      "     ---------------------------------------- 15.0/15.0 MB 8.4 MB/s eta 0:00:00\n",
      "Requirement already satisfied: pandas>=0.25 in c:\\users\\sonu\\appdata\\local\\programs\\python\\python311\\lib\\site-packages (from seaborn) (1.5.2)\n",
      "Requirement already satisfied: matplotlib!=3.6.1,>=3.1 in c:\\users\\sonu\\appdata\\local\\programs\\python\\python311\\lib\\site-packages (from seaborn) (3.7.2)\n",
      "Requirement already satisfied: contourpy>=1.0.1 in c:\\users\\sonu\\appdata\\local\\programs\\python\\python311\\lib\\site-packages (from matplotlib!=3.6.1,>=3.1->seaborn) (1.1.0)\n",
      "Requirement already satisfied: cycler>=0.10 in c:\\users\\sonu\\appdata\\local\\programs\\python\\python311\\lib\\site-packages (from matplotlib!=3.6.1,>=3.1->seaborn) (0.11.0)\n",
      "Requirement already satisfied: fonttools>=4.22.0 in c:\\users\\sonu\\appdata\\local\\programs\\python\\python311\\lib\\site-packages (from matplotlib!=3.6.1,>=3.1->seaborn) (4.40.0)\n",
      "Requirement already satisfied: kiwisolver>=1.0.1 in c:\\users\\sonu\\appdata\\local\\programs\\python\\python311\\lib\\site-packages (from matplotlib!=3.6.1,>=3.1->seaborn) (1.4.4)\n",
      "Requirement already satisfied: packaging>=20.0 in c:\\users\\sonu\\appdata\\local\\programs\\python\\python311\\lib\\site-packages (from matplotlib!=3.6.1,>=3.1->seaborn) (22.0)\n",
      "Requirement already satisfied: pillow>=6.2.0 in c:\\users\\sonu\\appdata\\local\\programs\\python\\python311\\lib\\site-packages (from matplotlib!=3.6.1,>=3.1->seaborn) (10.0.0)\n",
      "Requirement already satisfied: pyparsing<3.1,>=2.3.1 in c:\\users\\sonu\\appdata\\local\\programs\\python\\python311\\lib\\site-packages (from matplotlib!=3.6.1,>=3.1->seaborn) (3.0.9)\n",
      "Requirement already satisfied: python-dateutil>=2.7 in c:\\users\\sonu\\appdata\\local\\programs\\python\\python311\\lib\\site-packages (from matplotlib!=3.6.1,>=3.1->seaborn) (2.8.2)\n",
      "Requirement already satisfied: pytz>=2020.1 in c:\\users\\sonu\\appdata\\local\\programs\\python\\python311\\lib\\site-packages (from pandas>=0.25->seaborn) (2022.7)\n",
      "Requirement already satisfied: six>=1.5 in c:\\users\\sonu\\appdata\\local\\programs\\python\\python311\\lib\\site-packages (from python-dateutil>=2.7->matplotlib!=3.6.1,>=3.1->seaborn) (1.16.0)\n",
      "Installing collected packages: numpy, seaborn\n",
      "  Attempting uninstall: numpy\n",
      "    Found existing installation: numpy 1.24.0\n",
      "    Uninstalling numpy-1.24.0:\n",
      "      Successfully uninstalled numpy-1.24.0\n"
     ]
    },
    {
     "name": "stderr",
     "output_type": "stream",
     "text": [
      "ERROR: Could not install packages due to an OSError: [WinError 5] Access is denied: 'C:\\\\Users\\\\Sonu\\\\AppData\\\\Local\\\\Programs\\\\Python\\\\Python311\\\\Lib\\\\site-packages\\\\~umpy\\\\.libs\\\\libopenblas64__v0.3.21-gcc_10_3_0.dll'\n",
      "Consider using the `--user` option or check the permissions.\n",
      "\n"
     ]
    }
   ],
   "source": [
    "pip install seaborn"
   ]
  },
  {
   "cell_type": "code",
   "execution_count": 2,
   "id": "478fd5e3",
   "metadata": {},
   "outputs": [],
   "source": [
    "# Load the dataset\n",
    "data = pd.read_csv('tested.csv') "
   ]
  },
  {
   "cell_type": "code",
   "execution_count": 3,
   "id": "c895eb31",
   "metadata": {},
   "outputs": [],
   "source": [
    "# Preprocess the data\n",
    "data = data.dropna(subset=['Embarked'])  \n",
    "data = data[['Survived', 'Pclass', 'Sex', 'Age', 'Embarked']]\n"
   ]
  },
  {
   "cell_type": "code",
   "execution_count": 4,
   "id": "7f575a9b",
   "metadata": {},
   "outputs": [],
   "source": [
    "# Encode categorical features\n",
    "label_encoder = LabelEncoder()\n",
    "data['Sex'] = label_encoder.fit_transform(data['Sex'])\n",
    "data['Embarked'] = label_encoder.fit_transform(data['Embarked'])"
   ]
  },
  {
   "cell_type": "code",
   "execution_count": 5,
   "id": "76ee5478",
   "metadata": {},
   "outputs": [],
   "source": [
    "# Handle missing values in the 'Age' column\n",
    "data['Age'].fillna(data['Age'].mean(), inplace=True)"
   ]
  },
  {
   "cell_type": "code",
   "execution_count": 11,
   "id": "00997af0",
   "metadata": {},
   "outputs": [],
   "source": [
    "# Split the data into features and labels\n",
    "X = data.drop('Survived', axis=1)\n",
    "y = data['Survived']"
   ]
  },
  {
   "cell_type": "markdown",
   "id": "56cbe3e8",
   "metadata": {},
   "source": [
    "# Step 3: Split the data into training and testing sets:"
   ]
  },
  {
   "cell_type": "code",
   "execution_count": 12,
   "id": "28a8dd7f",
   "metadata": {},
   "outputs": [],
   "source": [
    "X_train, X_test, y_train, y_test = train_test_split(X, y, test_size=0.2, random_state=42)"
   ]
  },
  {
   "cell_type": "markdown",
   "id": "b0dc9f25",
   "metadata": {},
   "source": [
    "# Step 4: Train and evaluate the model (Random Forest Classifier):"
   ]
  },
  {
   "cell_type": "code",
   "execution_count": 13,
   "id": "0684f251",
   "metadata": {},
   "outputs": [],
   "source": [
    "# Create the Random Forest Classifier\n",
    "rf_classifier = RandomForestClassifier()"
   ]
  },
  {
   "cell_type": "code",
   "execution_count": 14,
   "id": "b7e87a9a",
   "metadata": {},
   "outputs": [
    {
     "data": {
      "text/html": [
       "<style>#sk-container-id-1 {color: black;}#sk-container-id-1 pre{padding: 0;}#sk-container-id-1 div.sk-toggleable {background-color: white;}#sk-container-id-1 label.sk-toggleable__label {cursor: pointer;display: block;width: 100%;margin-bottom: 0;padding: 0.3em;box-sizing: border-box;text-align: center;}#sk-container-id-1 label.sk-toggleable__label-arrow:before {content: \"▸\";float: left;margin-right: 0.25em;color: #696969;}#sk-container-id-1 label.sk-toggleable__label-arrow:hover:before {color: black;}#sk-container-id-1 div.sk-estimator:hover label.sk-toggleable__label-arrow:before {color: black;}#sk-container-id-1 div.sk-toggleable__content {max-height: 0;max-width: 0;overflow: hidden;text-align: left;background-color: #f0f8ff;}#sk-container-id-1 div.sk-toggleable__content pre {margin: 0.2em;color: black;border-radius: 0.25em;background-color: #f0f8ff;}#sk-container-id-1 input.sk-toggleable__control:checked~div.sk-toggleable__content {max-height: 200px;max-width: 100%;overflow: auto;}#sk-container-id-1 input.sk-toggleable__control:checked~label.sk-toggleable__label-arrow:before {content: \"▾\";}#sk-container-id-1 div.sk-estimator input.sk-toggleable__control:checked~label.sk-toggleable__label {background-color: #d4ebff;}#sk-container-id-1 div.sk-label input.sk-toggleable__control:checked~label.sk-toggleable__label {background-color: #d4ebff;}#sk-container-id-1 input.sk-hidden--visually {border: 0;clip: rect(1px 1px 1px 1px);clip: rect(1px, 1px, 1px, 1px);height: 1px;margin: -1px;overflow: hidden;padding: 0;position: absolute;width: 1px;}#sk-container-id-1 div.sk-estimator {font-family: monospace;background-color: #f0f8ff;border: 1px dotted black;border-radius: 0.25em;box-sizing: border-box;margin-bottom: 0.5em;}#sk-container-id-1 div.sk-estimator:hover {background-color: #d4ebff;}#sk-container-id-1 div.sk-parallel-item::after {content: \"\";width: 100%;border-bottom: 1px solid gray;flex-grow: 1;}#sk-container-id-1 div.sk-label:hover label.sk-toggleable__label {background-color: #d4ebff;}#sk-container-id-1 div.sk-serial::before {content: \"\";position: absolute;border-left: 1px solid gray;box-sizing: border-box;top: 0;bottom: 0;left: 50%;z-index: 0;}#sk-container-id-1 div.sk-serial {display: flex;flex-direction: column;align-items: center;background-color: white;padding-right: 0.2em;padding-left: 0.2em;position: relative;}#sk-container-id-1 div.sk-item {position: relative;z-index: 1;}#sk-container-id-1 div.sk-parallel {display: flex;align-items: stretch;justify-content: center;background-color: white;position: relative;}#sk-container-id-1 div.sk-item::before, #sk-container-id-1 div.sk-parallel-item::before {content: \"\";position: absolute;border-left: 1px solid gray;box-sizing: border-box;top: 0;bottom: 0;left: 50%;z-index: -1;}#sk-container-id-1 div.sk-parallel-item {display: flex;flex-direction: column;z-index: 1;position: relative;background-color: white;}#sk-container-id-1 div.sk-parallel-item:first-child::after {align-self: flex-end;width: 50%;}#sk-container-id-1 div.sk-parallel-item:last-child::after {align-self: flex-start;width: 50%;}#sk-container-id-1 div.sk-parallel-item:only-child::after {width: 0;}#sk-container-id-1 div.sk-dashed-wrapped {border: 1px dashed gray;margin: 0 0.4em 0.5em 0.4em;box-sizing: border-box;padding-bottom: 0.4em;background-color: white;}#sk-container-id-1 div.sk-label label {font-family: monospace;font-weight: bold;display: inline-block;line-height: 1.2em;}#sk-container-id-1 div.sk-label-container {text-align: center;}#sk-container-id-1 div.sk-container {/* jupyter's `normalize.less` sets `[hidden] { display: none; }` but bootstrap.min.css set `[hidden] { display: none !important; }` so we also need the `!important` here to be able to override the default hidden behavior on the sphinx rendered scikit-learn.org. See: https://github.com/scikit-learn/scikit-learn/issues/21755 */display: inline-block !important;position: relative;}#sk-container-id-1 div.sk-text-repr-fallback {display: none;}</style><div id=\"sk-container-id-1\" class=\"sk-top-container\"><div class=\"sk-text-repr-fallback\"><pre>RandomForestClassifier()</pre><b>In a Jupyter environment, please rerun this cell to show the HTML representation or trust the notebook. <br />On GitHub, the HTML representation is unable to render, please try loading this page with nbviewer.org.</b></div><div class=\"sk-container\" hidden><div class=\"sk-item\"><div class=\"sk-estimator sk-toggleable\"><input class=\"sk-toggleable__control sk-hidden--visually\" id=\"sk-estimator-id-1\" type=\"checkbox\" checked><label for=\"sk-estimator-id-1\" class=\"sk-toggleable__label sk-toggleable__label-arrow\">RandomForestClassifier</label><div class=\"sk-toggleable__content\"><pre>RandomForestClassifier()</pre></div></div></div></div></div>"
      ],
      "text/plain": [
       "RandomForestClassifier()"
      ]
     },
     "execution_count": 14,
     "metadata": {},
     "output_type": "execute_result"
    }
   ],
   "source": [
    "# Train the model\n",
    "rf_classifier.fit(X_train, y_train)"
   ]
  },
  {
   "cell_type": "code",
   "execution_count": 15,
   "id": "2adef5ae",
   "metadata": {},
   "outputs": [],
   "source": [
    "# Make predictions on the test set\n",
    "y_pred = rf_classifier.predict(X_test)"
   ]
  },
  {
   "cell_type": "code",
   "execution_count": 16,
   "id": "7e08d491",
   "metadata": {},
   "outputs": [
    {
     "name": "stdout",
     "output_type": "stream",
     "text": [
      "Accuracy: 1.0\n"
     ]
    }
   ],
   "source": [
    "# Calculate the accuracy\n",
    "accuracy = accuracy_score(y_test, y_pred)\n",
    "print('Accuracy:', accuracy)"
   ]
  },
  {
   "cell_type": "markdown",
   "id": "18d66e0a",
   "metadata": {},
   "source": [
    "# Step 5: Analyze the feature importances:"
   ]
  },
  {
   "cell_type": "code",
   "execution_count": 17,
   "id": "6008ca8a",
   "metadata": {},
   "outputs": [],
   "source": [
    "# Get the feature importances\n",
    "feature_importances = rf_classifier.feature_importances_"
   ]
  },
  {
   "cell_type": "code",
   "execution_count": 18,
   "id": "6d72fe62",
   "metadata": {},
   "outputs": [],
   "source": [
    "# Create a DataFrame to display the feature importances\n",
    "feature_importances_df = pd.DataFrame({'Feature': X.columns, 'Importance': feature_importances})\n",
    "feature_importances_df = feature_importances_df.sort_values(by='Importance', ascending=False)\n"
   ]
  },
  {
   "cell_type": "code",
   "execution_count": 19,
   "id": "a938df12",
   "metadata": {},
   "outputs": [
    {
     "name": "stdout",
     "output_type": "stream",
     "text": [
      "    Feature  Importance\n",
      "1       Sex    0.952566\n",
      "2       Age    0.026209\n",
      "0    Pclass    0.013242\n",
      "3  Embarked    0.007983\n"
     ]
    }
   ],
   "source": [
    "\n",
    "# Display the feature importances\n",
    "print(feature_importances_df)"
   ]
  },
  {
   "cell_type": "markdown",
   "id": "15b88eca",
   "metadata": {},
   "source": [
    "# -----------End-----------"
   ]
  }
 ],
 "metadata": {
  "kernelspec": {
   "display_name": "Python 3 (ipykernel)",
   "language": "python",
   "name": "python3"
  },
  "language_info": {
   "codemirror_mode": {
    "name": "ipython",
    "version": 3
   },
   "file_extension": ".py",
   "mimetype": "text/x-python",
   "name": "python",
   "nbconvert_exporter": "python",
   "pygments_lexer": "ipython3",
   "version": "3.11.1"
  }
 },
 "nbformat": 4,
 "nbformat_minor": 5
}
